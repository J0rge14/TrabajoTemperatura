{
 "cells": [
  {
   "cell_type": "markdown",
   "id": "4cf2df98",
   "metadata": {},
   "source": [
    "Una red neuronal es un modelo matemático inspirado en el cerebro humano. Está compuesta por nodos llamados neuronas, que están organizados en capas. Estas redes se entrenan para aprender patrones en los datos a través de un proceso llamado propagación hacia adelante y retropropagación."
   ]
  },
  {
   "cell_type": "code",
   "execution_count": null,
   "id": "ae30e554",
   "metadata": {},
   "outputs": [],
   "source": []
  }
 ],
 "metadata": {
  "kernelspec": {
   "display_name": ".venv",
   "language": "python",
   "name": "python3"
  },
  "language_info": {
   "name": "python",
   "version": "3.10.0"
  }
 },
 "nbformat": 4,
 "nbformat_minor": 5
}
