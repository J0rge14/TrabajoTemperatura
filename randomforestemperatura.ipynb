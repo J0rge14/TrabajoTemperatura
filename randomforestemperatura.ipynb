{
 "cells": [
  {
   "cell_type": "code",
   "execution_count": 26,
   "metadata": {},
   "outputs": [
    {
     "name": "stdout",
     "output_type": "stream",
     "text": [
      "Precisión del Random Forest: 99.67%\n"
     ]
    }
   ],
   "source": [
    "from matplotlib import pyplot as plt\n",
    "import pandas as pd\n",
    "from sklearn.calibration import LabelEncoder\n",
    "from sklearn.discriminant_analysis import StandardScaler\n",
    "from sklearn.linear_model import LogisticRegression\n",
    "from sklearn.metrics import ConfusionMatrixDisplay, classification_report\n",
    "from sklearn.model_selection import train_test_split\n",
    "from sklearn.model_selection import train_test_split\n",
    "from sklearn.preprocessing import StandardScaler\n",
    "from sklearn.linear_model import LogisticRegression\n",
    "from sklearn.metrics import classification_report, ConfusionMatrixDisplay\n",
    "from imblearn.over_sampling import RandomOverSampler, SMOTE\n",
    "import numpy as np\n",
    "from sklearn import tree\n",
    "from sklearn.tree import DecisionTreeClassifier\n",
    "from sklearn.model_selection import GridSearchCV\n",
    "from sklearn.datasets import load_digits\n",
    "from sklearn.model_selection import train_test_split\n",
    "from sklearn.ensemble import RandomForestClassifier\n",
    "from sklearn.metrics import accuracy_score\n",
    "import matplotlib.pyplot as plt\n",
    "\n",
    "df = pd.read_csv(\"Madrid 2022-02-08 to 2024-11-01.csv\")\n",
    "df2 = pd.read_csv(\"madrid 2019-04-08 to 2022-01-01.csv\")\n",
    "df3 =pd.read_csv(\"madrid 2022-01-02 to 2022-02-07.csv\")\n",
    "df = pd.concat([df, df2, df3], ignore_index=True)\n",
    "\n",
    "df[\"preciptype\"].unique()\n",
    "df[\"icon\"].unique()\n",
    "df\n",
    "\n",
    "#Categorizar la columna icon\n",
    "labelencoder=LabelEncoder()\n",
    "df[\"icono numero\"]= labelencoder.fit_transform(df[\"icon\"])\n",
    "df\n",
    "\n",
    "\n",
    "# Definir X (variables independientes)\n",
    "X = df.drop(columns=[\"name\",\"datetime\",\"sunrise\",\"sunset\", \"severerisk\", \"preciptype\", \"conditions\", \"description\", \"stations\", \"icon\", \"icono numero\"], axis=1)\n",
    "\n",
    "# Convertir y a una sola columna con valores categóricos\n",
    "y = df[\"icono numero\"]\n",
    "\n",
    "# Dividir en conjunto de entrenamiento y prueba\n",
    "X_train, X_test, y_train, y_test = train_test_split(X, y, test_size=0.3, random_state=42)\n",
    "\n",
    "# Crear el modelo de Random Forest con 100 árboles\n",
    "model = RandomForestClassifier(n_estimators=100, random_state=42)\n",
    "\n",
    "# Entrenar el modelo\n",
    "model.fit(X_train, y_train)\n",
    "\n",
    "# Hacer predicciones\n",
    "y_pred = model.predict(X_test)\n",
    "\n",
    "# Evaluar el modelo con accuracy\n",
    "accuracy = accuracy_score(y_test, y_pred)\n",
    "print(f'Precisión del Random Forest: {accuracy * 100:.2f}%')\n",
    "\n",
    "\n"
   ]
  },
  {
   "cell_type": "code",
   "execution_count": 27,
   "metadata": {},
   "outputs": [
    {
     "data": {
      "text/plain": [
       "<sklearn.metrics._plot.confusion_matrix.ConfusionMatrixDisplay at 0x1e24d89f1c0>"
      ]
     },
     "execution_count": 27,
     "metadata": {},
     "output_type": "execute_result"
    },
    {
     "data": {
      "image/png": "[encoded data removed]",
      "text/plain": [
       "<Figure size 640x480 with 2 Axes>"
      ]
     },
     "metadata": {},
     "output_type": "display_data"
    }
   ],
   "source": [
    "from sklearn.metrics import confusion_matrix\n",
    "\n",
    "cm = confusion_matrix(y_test, y_pred)\n",
    "\n",
    "# Matriz de confusión\n",
    "ConfusionMatrixDisplay.from_estimator(model, X_test, y_test, display_labels=[\"clear-day\", \"cloudy\", \"partly-cloudy-day\", \"rain\", \"snow\"],cmap=\"Blues\")\n",
    "\n",
    "\n"
   ]
  },
  {
   "cell_type": "code",
   "execution_count": 28,
   "metadata": {},
   "outputs": [
    {
     "name": "stdout",
     "output_type": "stream",
     "text": [
      "Introduce los datos del nuevo registro para predecir su clase:\n"
     ]
    },
    {
     "ename": "ValueError",
     "evalue": "could not convert string to float: ''",
     "output_type": "error",
     "traceback": [
      "\u001b[1;31m---------------------------------------------------------------------------\u001b[0m",
      "\u001b[1;31mValueError\u001b[0m                                Traceback (most recent call last)",
      "Cell \u001b[1;32mIn[28], line 37\u001b[0m\n\u001b[0;32m     34\u001b[0m     \u001b[38;5;28;01melse\u001b[39;00m:\n\u001b[0;32m     35\u001b[0m         \u001b[38;5;28mprint\u001b[39m(\u001b[38;5;124m\"\u001b[39m\u001b[38;5;124msnow\u001b[39m\u001b[38;5;124m\"\u001b[39m)\n\u001b[1;32m---> 37\u001b[0m \u001b[43mpredecir\u001b[49m\u001b[43m(\u001b[49m\u001b[43mnombre_caracteristica\u001b[49m\u001b[43m)\u001b[49m\n",
      "Cell \u001b[1;32mIn[28], line 17\u001b[0m, in \u001b[0;36mpredecir\u001b[1;34m(caracteristicas)\u001b[0m\n\u001b[0;32m     15\u001b[0m valores \u001b[38;5;241m=\u001b[39m []\n\u001b[0;32m     16\u001b[0m \u001b[38;5;28;01mfor\u001b[39;00m e \u001b[38;5;129;01min\u001b[39;00m caracteristicas:\n\u001b[1;32m---> 17\u001b[0m     r \u001b[38;5;241m=\u001b[39m \u001b[38;5;28;43mfloat\u001b[39;49m\u001b[43m(\u001b[49m\u001b[38;5;28;43minput\u001b[39;49m\u001b[43m(\u001b[49m\u001b[38;5;124;43mf\u001b[39;49m\u001b[38;5;124;43m\"\u001b[39;49m\u001b[38;5;124;43mIntroduce \u001b[39;49m\u001b[38;5;132;43;01m{\u001b[39;49;00m\u001b[43me\u001b[49m\u001b[38;5;132;43;01m}\u001b[39;49;00m\u001b[38;5;124;43m:\u001b[39;49m\u001b[38;5;124;43m\"\u001b[39;49m\u001b[43m)\u001b[49m\u001b[43m)\u001b[49m\n\u001b[0;32m     18\u001b[0m     valores\u001b[38;5;241m.\u001b[39mappend(r)\n\u001b[0;32m     19\u001b[0m \u001b[38;5;66;03m# Crear un DataFrame de pandas con los mismos nombres de columna\u001b[39;00m\n",
      "\u001b[1;31mValueError\u001b[0m: could not convert string to float: ''"
     ]
    }
   ],
   "source": [
    "# Creamos la función para ejecutar el modelo con nuevos datos \n",
    "nombre_caracteristica = [\n",
    " \"tempmax\", \"tempmin\", \"temp\", \"feelslikemax\", \"feelslikemin\", \"feelslike\", \"dew\", \n",
    "    \"humidity\", \"precip\", \"precipprob\", \"precipcover\", \"snow\", \"snowdepth\", \"windgust\", \n",
    "    \"windspeed\", \"winddir\", \"sealevelpressure\", \"cloudcover\", \"visibility\", \n",
    "    \"solarradiation\", \"solarenergy\", \"uvindex\", \"moonphase\"\n",
    "    \n",
    "]\n",
    "\n",
    "    \n",
    "# Función para predecir la clase de un animal\n",
    "def predecir(caracteristicas):\n",
    "    # Solita al usuario los datos del nuevo registro\n",
    "    print(\"Introduce los datos del nuevo registro para predecir su clase:\")\n",
    "    valores = []\n",
    "    for e in caracteristicas:\n",
    "        r = float(input(f\"Introduce {e}:\"))\n",
    "        valores.append(r)\n",
    "    # Crear un DataFrame de pandas con los mismos nombres de columna\n",
    "    X_new = pd.DataFrame([valores], columns=caracteristicas)\n",
    "\n",
    "    # Realizar la predicción con el modelo\n",
    "    y_new = model.predict(X_new)\n",
    "\n",
    "    # Mostrar el resultado de la predicción\n",
    "    if y_new == 0:\n",
    "        print(\"Clear-day\")\n",
    "    elif y_new == 1:\n",
    "        print(\"Cloudy\")\n",
    "    elif y_new == 2:\n",
    "        print(\"Partly-cloudy-day\")\n",
    "    elif y_new == 3:\n",
    "        print(\"rain\")\n",
    "    else:\n",
    "        print(\"snow\")\n",
    "\n",
    "predecir(nombre_caracteristica)\n"
   ]
  }
 ],
 "metadata": {
  "kernelspec": {
   "display_name": ".venv",
   "language": "python",
   "name": "python3"
  },
  "language_info": {
   "codemirror_mode": {
    "name": "ipython",
    "version": 3
   },
   "file_extension": ".py",
   "mimetype": "text/x-python",
   "name": "python",
   "nbconvert_exporter": "python",
   "pygments_lexer": "ipython3",
   "version": "3.10.0"
  }
 },
 "nbformat": 4,
 "nbformat_minor": 2
}
